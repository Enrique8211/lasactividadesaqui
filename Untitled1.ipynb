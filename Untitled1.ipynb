{
  "nbformat": 4,
  "nbformat_minor": 0,
  "metadata": {
    "colab": {
      "name": "Untitled1.ipynb",
      "provenance": [],
      "authorship_tag": "ABX9TyPjVq3jEpgV12n2ERdLXIGi",
      "include_colab_link": true
    },
    "kernelspec": {
      "name": "python3",
      "display_name": "Python 3"
    },
    "language_info": {
      "name": "python"
    }
  },
  "cells": [
    {
      "cell_type": "markdown",
      "metadata": {
        "id": "view-in-github",
        "colab_type": "text"
      },
      "source": [
        "<a href=\"https://colab.research.google.com/github/Enrique8211/lasactividadesaqui/blob/main/Untitled1.ipynb\" target=\"_parent\"><img src=\"https://colab.research.google.com/assets/colab-badge.svg\" alt=\"Open In Colab\"/></a>"
      ]
    },
    {
      "cell_type": "markdown",
      "source": [
        "##Actividad #2 Ejercicios en Python\n",
        "Enrique Fernando Garcia Moreno 1845299 Hora:N4"
      ],
      "metadata": {
        "id": "Q1vWUzDF3BcS"
      }
    },
    {
      "cell_type": "code",
      "execution_count": null,
      "metadata": {
        "colab": {
          "base_uri": "https://localhost:8080/"
        },
        "id": "ugd9mO3K25Ke",
        "outputId": "6c87eead-e808-4da2-b576-b7da04f56e68"
      },
      "outputs": [
        {
          "output_type": "stream",
          "name": "stdout",
          "text": [
            "Hola ¿Cual es tu nombre? enrique\n",
            "Hola enrique es un gusto conocerte.\n"
          ]
        }
      ],
      "source": [
        "# \"Ejercicio 1- Escribe un programa que le pida al usuario su nombre y que lo salude con su nombre, exceto sí se llama \"Ana\", \"Juan\" y \"Pedro\".#\n",
        "Nombre = input(\"Hola ¿Cual es tu nombre? \")\n",
        "if Nombre == \"Ana\" or Nombre == \"Juan\" or Nombre == \"Pedro\":\n",
        "  print(\" Lo siento no puedo saludarte.\")\n",
        "else:\n",
        "  print(\"Hola \" + Nombre + \" es un gusto conocerte.\")\n",
        "  "
      ]
    },
    {
      "cell_type": "code",
      "source": [
        "# \"Ejercicio 2.Escribe una función que regrese el último elemento de una lista y que revierta el orden de la lista e imprima la lista revertida.\"\n",
        "# Lista de materiales\n",
        "Materiales = (\"libreta\", \"Lapices\", \"Borrador\", \"Plumas\")\n",
        "print(Materiales[-1])\n",
        "\n",
        "#m Materiales invertidos\n",
        "Materiales2 = (\"libreta\",\"Lapices\",\"Borrador\",\"Plumas\")\n",
        "print(Materiales2[-1],Materiales2[-2],Materiales2[-3],Materiales2[-4])"
      ],
      "metadata": {
        "colab": {
          "base_uri": "https://localhost:8080/"
        },
        "id": "fpir9OcY70jS",
        "outputId": "56896b1a-24be-43af-c2fa-dc4f921f9e10"
      },
      "execution_count": null,
      "outputs": [
        {
          "output_type": "stream",
          "name": "stdout",
          "text": [
            "Plumas\n",
            "Plumas Borrador Lapices libreta\n"
          ]
        }
      ]
    },
    {
      "cell_type": "code",
      "source": [
        "# \"Ejercicio 3..Escribe una función que toma una lista de strings y los imprima línea por línea en un marco rectangular.\"\n",
        "Palabras = (\"Hola\",\"me\",\"gusta\",\"mucho\",\"aprender\",\"a\",\"programar.\")\n",
        "for x in Palabras:\n",
        "  print(x)"
      ],
      "metadata": {
        "colab": {
          "base_uri": "https://localhost:8080/"
        },
        "id": "TIXS6lyJHHqV",
        "outputId": "083e244a-9e74-41d5-aa8f-419c57d03957"
      },
      "execution_count": null,
      "outputs": [
        {
          "output_type": "stream",
          "name": "stdout",
          "text": [
            "Hola\n",
            "me\n",
            "gusta\n",
            "mucho\n",
            "aprender\n",
            "a\n",
            "programar.\n"
          ]
        }
      ]
    }
  ]
}